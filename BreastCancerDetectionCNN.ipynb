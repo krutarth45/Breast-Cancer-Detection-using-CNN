{
  "nbformat": 4,
  "nbformat_minor": 0,
  "metadata": {
    "colab": {
      "name": "BreastCancerDetectionCNN.ipynb",
      "provenance": [],
      "collapsed_sections": []
    },
    "kernelspec": {
      "name": "python3",
      "display_name": "Python 3"
    },
    "accelerator": "TPU"
  },
  "cells": [
    {
      "cell_type": "code",
      "metadata": {
        "id": "k4EQpW1oXB2x",
        "colab_type": "code",
        "colab": {}
      },
      "source": [
        "import tensorflow as tf\n",
        "from tensorflow.keras import Sequential\n",
        "from tensorflow.keras.layers import Conv1D, MaxPool1D,Flatten,Dense,Dropout,BatchNormalization\n",
        "from tensorflow.keras.optimizers import Adam"
      ],
      "execution_count": 0,
      "outputs": []
    },
    {
      "cell_type": "code",
      "metadata": {
        "id": "eVF9EXHiYBOj",
        "colab_type": "code",
        "colab": {}
      },
      "source": [
        "import numpy as np\n",
        "import pandas as pd\n",
        "import matplotlib.pyplot as plt\n",
        "import seaborn as sns"
      ],
      "execution_count": 0,
      "outputs": []
    },
    {
      "cell_type": "code",
      "metadata": {
        "id": "oaKStOVrYOWd",
        "colab_type": "code",
        "colab": {}
      },
      "source": [
        "from sklearn import datasets,metrics\n",
        "from sklearn.model_selection import train_test_split\n",
        "from sklearn.preprocessing import StandardScaler"
      ],
      "execution_count": 0,
      "outputs": []
    },
    {
      "cell_type": "code",
      "metadata": {
        "id": "zkbnhjDIbRdP",
        "colab_type": "code",
        "colab": {}
      },
      "source": [
        "cancerData = datasets.load_breast_cancer()"
      ],
      "execution_count": 0,
      "outputs": []
    },
    {
      "cell_type": "code",
      "metadata": {
        "id": "HQdIvEdLbLZU",
        "colab_type": "code",
        "outputId": "b902dc6d-2185-4949-b07a-ae819b1abe85",
        "colab": {
          "base_uri": "https://localhost:8080/",
          "height": 249
        }
      },
      "source": [
        "X = pd.DataFrame(data = cancerData.data, columns=cancerData.feature_names )\n",
        "X.head()"
      ],
      "execution_count": 0,
      "outputs": [
        {
          "output_type": "execute_result",
          "data": {
            "text/html": [
              "<div>\n",
              "<style scoped>\n",
              "    .dataframe tbody tr th:only-of-type {\n",
              "        vertical-align: middle;\n",
              "    }\n",
              "\n",
              "    .dataframe tbody tr th {\n",
              "        vertical-align: top;\n",
              "    }\n",
              "\n",
              "    .dataframe thead th {\n",
              "        text-align: right;\n",
              "    }\n",
              "</style>\n",
              "<table border=\"1\" class=\"dataframe\">\n",
              "  <thead>\n",
              "    <tr style=\"text-align: right;\">\n",
              "      <th></th>\n",
              "      <th>mean radius</th>\n",
              "      <th>mean texture</th>\n",
              "      <th>mean perimeter</th>\n",
              "      <th>mean area</th>\n",
              "      <th>mean smoothness</th>\n",
              "      <th>mean compactness</th>\n",
              "      <th>mean concavity</th>\n",
              "      <th>mean concave points</th>\n",
              "      <th>mean symmetry</th>\n",
              "      <th>mean fractal dimension</th>\n",
              "      <th>radius error</th>\n",
              "      <th>texture error</th>\n",
              "      <th>perimeter error</th>\n",
              "      <th>area error</th>\n",
              "      <th>smoothness error</th>\n",
              "      <th>compactness error</th>\n",
              "      <th>concavity error</th>\n",
              "      <th>concave points error</th>\n",
              "      <th>symmetry error</th>\n",
              "      <th>fractal dimension error</th>\n",
              "      <th>worst radius</th>\n",
              "      <th>worst texture</th>\n",
              "      <th>worst perimeter</th>\n",
              "      <th>worst area</th>\n",
              "      <th>worst smoothness</th>\n",
              "      <th>worst compactness</th>\n",
              "      <th>worst concavity</th>\n",
              "      <th>worst concave points</th>\n",
              "      <th>worst symmetry</th>\n",
              "      <th>worst fractal dimension</th>\n",
              "    </tr>\n",
              "  </thead>\n",
              "  <tbody>\n",
              "    <tr>\n",
              "      <th>0</th>\n",
              "      <td>17.99</td>\n",
              "      <td>10.38</td>\n",
              "      <td>122.80</td>\n",
              "      <td>1001.0</td>\n",
              "      <td>0.11840</td>\n",
              "      <td>0.27760</td>\n",
              "      <td>0.3001</td>\n",
              "      <td>0.14710</td>\n",
              "      <td>0.2419</td>\n",
              "      <td>0.07871</td>\n",
              "      <td>1.0950</td>\n",
              "      <td>0.9053</td>\n",
              "      <td>8.589</td>\n",
              "      <td>153.40</td>\n",
              "      <td>0.006399</td>\n",
              "      <td>0.04904</td>\n",
              "      <td>0.05373</td>\n",
              "      <td>0.01587</td>\n",
              "      <td>0.03003</td>\n",
              "      <td>0.006193</td>\n",
              "      <td>25.38</td>\n",
              "      <td>17.33</td>\n",
              "      <td>184.60</td>\n",
              "      <td>2019.0</td>\n",
              "      <td>0.1622</td>\n",
              "      <td>0.6656</td>\n",
              "      <td>0.7119</td>\n",
              "      <td>0.2654</td>\n",
              "      <td>0.4601</td>\n",
              "      <td>0.11890</td>\n",
              "    </tr>\n",
              "    <tr>\n",
              "      <th>1</th>\n",
              "      <td>20.57</td>\n",
              "      <td>17.77</td>\n",
              "      <td>132.90</td>\n",
              "      <td>1326.0</td>\n",
              "      <td>0.08474</td>\n",
              "      <td>0.07864</td>\n",
              "      <td>0.0869</td>\n",
              "      <td>0.07017</td>\n",
              "      <td>0.1812</td>\n",
              "      <td>0.05667</td>\n",
              "      <td>0.5435</td>\n",
              "      <td>0.7339</td>\n",
              "      <td>3.398</td>\n",
              "      <td>74.08</td>\n",
              "      <td>0.005225</td>\n",
              "      <td>0.01308</td>\n",
              "      <td>0.01860</td>\n",
              "      <td>0.01340</td>\n",
              "      <td>0.01389</td>\n",
              "      <td>0.003532</td>\n",
              "      <td>24.99</td>\n",
              "      <td>23.41</td>\n",
              "      <td>158.80</td>\n",
              "      <td>1956.0</td>\n",
              "      <td>0.1238</td>\n",
              "      <td>0.1866</td>\n",
              "      <td>0.2416</td>\n",
              "      <td>0.1860</td>\n",
              "      <td>0.2750</td>\n",
              "      <td>0.08902</td>\n",
              "    </tr>\n",
              "    <tr>\n",
              "      <th>2</th>\n",
              "      <td>19.69</td>\n",
              "      <td>21.25</td>\n",
              "      <td>130.00</td>\n",
              "      <td>1203.0</td>\n",
              "      <td>0.10960</td>\n",
              "      <td>0.15990</td>\n",
              "      <td>0.1974</td>\n",
              "      <td>0.12790</td>\n",
              "      <td>0.2069</td>\n",
              "      <td>0.05999</td>\n",
              "      <td>0.7456</td>\n",
              "      <td>0.7869</td>\n",
              "      <td>4.585</td>\n",
              "      <td>94.03</td>\n",
              "      <td>0.006150</td>\n",
              "      <td>0.04006</td>\n",
              "      <td>0.03832</td>\n",
              "      <td>0.02058</td>\n",
              "      <td>0.02250</td>\n",
              "      <td>0.004571</td>\n",
              "      <td>23.57</td>\n",
              "      <td>25.53</td>\n",
              "      <td>152.50</td>\n",
              "      <td>1709.0</td>\n",
              "      <td>0.1444</td>\n",
              "      <td>0.4245</td>\n",
              "      <td>0.4504</td>\n",
              "      <td>0.2430</td>\n",
              "      <td>0.3613</td>\n",
              "      <td>0.08758</td>\n",
              "    </tr>\n",
              "    <tr>\n",
              "      <th>3</th>\n",
              "      <td>11.42</td>\n",
              "      <td>20.38</td>\n",
              "      <td>77.58</td>\n",
              "      <td>386.1</td>\n",
              "      <td>0.14250</td>\n",
              "      <td>0.28390</td>\n",
              "      <td>0.2414</td>\n",
              "      <td>0.10520</td>\n",
              "      <td>0.2597</td>\n",
              "      <td>0.09744</td>\n",
              "      <td>0.4956</td>\n",
              "      <td>1.1560</td>\n",
              "      <td>3.445</td>\n",
              "      <td>27.23</td>\n",
              "      <td>0.009110</td>\n",
              "      <td>0.07458</td>\n",
              "      <td>0.05661</td>\n",
              "      <td>0.01867</td>\n",
              "      <td>0.05963</td>\n",
              "      <td>0.009208</td>\n",
              "      <td>14.91</td>\n",
              "      <td>26.50</td>\n",
              "      <td>98.87</td>\n",
              "      <td>567.7</td>\n",
              "      <td>0.2098</td>\n",
              "      <td>0.8663</td>\n",
              "      <td>0.6869</td>\n",
              "      <td>0.2575</td>\n",
              "      <td>0.6638</td>\n",
              "      <td>0.17300</td>\n",
              "    </tr>\n",
              "    <tr>\n",
              "      <th>4</th>\n",
              "      <td>20.29</td>\n",
              "      <td>14.34</td>\n",
              "      <td>135.10</td>\n",
              "      <td>1297.0</td>\n",
              "      <td>0.10030</td>\n",
              "      <td>0.13280</td>\n",
              "      <td>0.1980</td>\n",
              "      <td>0.10430</td>\n",
              "      <td>0.1809</td>\n",
              "      <td>0.05883</td>\n",
              "      <td>0.7572</td>\n",
              "      <td>0.7813</td>\n",
              "      <td>5.438</td>\n",
              "      <td>94.44</td>\n",
              "      <td>0.011490</td>\n",
              "      <td>0.02461</td>\n",
              "      <td>0.05688</td>\n",
              "      <td>0.01885</td>\n",
              "      <td>0.01756</td>\n",
              "      <td>0.005115</td>\n",
              "      <td>22.54</td>\n",
              "      <td>16.67</td>\n",
              "      <td>152.20</td>\n",
              "      <td>1575.0</td>\n",
              "      <td>0.1374</td>\n",
              "      <td>0.2050</td>\n",
              "      <td>0.4000</td>\n",
              "      <td>0.1625</td>\n",
              "      <td>0.2364</td>\n",
              "      <td>0.07678</td>\n",
              "    </tr>\n",
              "  </tbody>\n",
              "</table>\n",
              "</div>"
            ],
            "text/plain": [
              "   mean radius  mean texture  ...  worst symmetry  worst fractal dimension\n",
              "0        17.99         10.38  ...          0.4601                  0.11890\n",
              "1        20.57         17.77  ...          0.2750                  0.08902\n",
              "2        19.69         21.25  ...          0.3613                  0.08758\n",
              "3        11.42         20.38  ...          0.6638                  0.17300\n",
              "4        20.29         14.34  ...          0.2364                  0.07678\n",
              "\n",
              "[5 rows x 30 columns]"
            ]
          },
          "metadata": {
            "tags": []
          },
          "execution_count": 6
        }
      ]
    },
    {
      "cell_type": "code",
      "metadata": {
        "id": "4TPF1bptbr5L",
        "colab_type": "code",
        "colab": {}
      },
      "source": [
        "y = cancerData.target"
      ],
      "execution_count": 0,
      "outputs": []
    },
    {
      "cell_type": "code",
      "metadata": {
        "id": "gZAEy7ywb6WK",
        "colab_type": "code",
        "outputId": "3b4ee401-f3fe-4ba5-8587-e439187adaa0",
        "colab": {
          "base_uri": "https://localhost:8080/",
          "height": 34
        }
      },
      "source": [
        "X.shape"
      ],
      "execution_count": 0,
      "outputs": [
        {
          "output_type": "execute_result",
          "data": {
            "text/plain": [
              "(569, 30)"
            ]
          },
          "metadata": {
            "tags": []
          },
          "execution_count": 8
        }
      ]
    },
    {
      "cell_type": "code",
      "metadata": {
        "id": "6UZzlqbkb-Td",
        "colab_type": "code",
        "colab": {}
      },
      "source": [
        "X_train,X_test,y_train,y_test= train_test_split(X,y,test_size=0.2,stratify=y)"
      ],
      "execution_count": 0,
      "outputs": []
    },
    {
      "cell_type": "code",
      "metadata": {
        "id": "2gFl0lG_cOCO",
        "colab_type": "code",
        "outputId": "57f12bd0-aee0-4db1-a878-f211a22c3738",
        "colab": {
          "base_uri": "https://localhost:8080/",
          "height": 34
        }
      },
      "source": [
        "X_train.shape"
      ],
      "execution_count": 0,
      "outputs": [
        {
          "output_type": "execute_result",
          "data": {
            "text/plain": [
              "(455, 30)"
            ]
          },
          "metadata": {
            "tags": []
          },
          "execution_count": 10
        }
      ]
    },
    {
      "cell_type": "code",
      "metadata": {
        "id": "VlO49_vpcQCV",
        "colab_type": "code",
        "outputId": "cdd9d003-d02a-4568-e870-8cc4d0f4c657",
        "colab": {
          "base_uri": "https://localhost:8080/",
          "height": 34
        }
      },
      "source": [
        "y_test.shape"
      ],
      "execution_count": 0,
      "outputs": [
        {
          "output_type": "execute_result",
          "data": {
            "text/plain": [
              "(114,)"
            ]
          },
          "metadata": {
            "tags": []
          },
          "execution_count": 11
        }
      ]
    },
    {
      "cell_type": "code",
      "metadata": {
        "id": "P-b1G51jcR0s",
        "colab_type": "code",
        "colab": {}
      },
      "source": [
        "scaler = StandardScaler()"
      ],
      "execution_count": 0,
      "outputs": []
    },
    {
      "cell_type": "code",
      "metadata": {
        "id": "dqnRPAdTcXrd",
        "colab_type": "code",
        "colab": {}
      },
      "source": [
        "X_train = scaler.fit_transform(X_train)\n",
        "X_test = scaler.transform(X_test)"
      ],
      "execution_count": 0,
      "outputs": []
    },
    {
      "cell_type": "code",
      "metadata": {
        "id": "yG9PK80sciov",
        "colab_type": "code",
        "colab": {}
      },
      "source": [
        "X_train = X_train.reshape(455,30,1)\n",
        "X_test = X_test.reshape(114,30,1)"
      ],
      "execution_count": 0,
      "outputs": []
    },
    {
      "cell_type": "code",
      "metadata": {
        "id": "zrX9KfxPczIV",
        "colab_type": "code",
        "colab": {}
      },
      "source": [
        "model = Sequential()\n",
        "model.add(Conv1D(filters=32,kernel_size=2,activation='relu',input_shape=(30,1)))\n",
        "model.add(BatchNormalization())\n",
        "model.add(Dropout(0.2))\n",
        "\n",
        "model.add(Conv1D(64,2,activation='relu'))\n",
        "model.add(BatchNormalization())\n",
        "model.add(Dropout(0.5))\n",
        "\n",
        "model.add(Flatten())\n",
        "model.add(Dense(64,activation='relu'))\n",
        "model.add(Dropout(0.5))\n",
        "\n",
        "model.add(Dense(1,activation='sigmoid'))"
      ],
      "execution_count": 0,
      "outputs": []
    },
    {
      "cell_type": "code",
      "metadata": {
        "id": "zPcYxdgbez1W",
        "colab_type": "code",
        "outputId": "84eeebca-9e97-4c5f-eaf6-90a71b1f6efa",
        "colab": {
          "base_uri": "https://localhost:8080/",
          "height": 487
        }
      },
      "source": [
        "model.summary()"
      ],
      "execution_count": 0,
      "outputs": [
        {
          "output_type": "stream",
          "text": [
            "Model: \"sequential\"\n",
            "_________________________________________________________________\n",
            "Layer (type)                 Output Shape              Param #   \n",
            "=================================================================\n",
            "conv1d (Conv1D)              (None, 29, 32)            96        \n",
            "_________________________________________________________________\n",
            "batch_normalization (BatchNo (None, 29, 32)            128       \n",
            "_________________________________________________________________\n",
            "dropout (Dropout)            (None, 29, 32)            0         \n",
            "_________________________________________________________________\n",
            "conv1d_1 (Conv1D)            (None, 28, 64)            4160      \n",
            "_________________________________________________________________\n",
            "batch_normalization_1 (Batch (None, 28, 64)            256       \n",
            "_________________________________________________________________\n",
            "dropout_1 (Dropout)          (None, 28, 64)            0         \n",
            "_________________________________________________________________\n",
            "flatten (Flatten)            (None, 1792)              0         \n",
            "_________________________________________________________________\n",
            "dense (Dense)                (None, 64)                114752    \n",
            "_________________________________________________________________\n",
            "dropout_2 (Dropout)          (None, 64)                0         \n",
            "_________________________________________________________________\n",
            "dense_1 (Dense)              (None, 1)                 65        \n",
            "=================================================================\n",
            "Total params: 119,457\n",
            "Trainable params: 119,265\n",
            "Non-trainable params: 192\n",
            "_________________________________________________________________\n"
          ],
          "name": "stdout"
        }
      ]
    },
    {
      "cell_type": "code",
      "metadata": {
        "id": "K2cTAE9cfnSg",
        "colab_type": "code",
        "colab": {}
      },
      "source": [
        "model.compile(optimizer=Adam(learning_rate=0.0005),loss='binary_crossentropy',metrics=['accuracy'])"
      ],
      "execution_count": 0,
      "outputs": []
    },
    {
      "cell_type": "code",
      "metadata": {
        "id": "5n51eSosf33D",
        "colab_type": "code",
        "outputId": "0c9f657e-7b0b-4749-e14d-c644fd4f8bbc",
        "colab": {
          "base_uri": "https://localhost:8080/",
          "height": 1000
        }
      },
      "source": [
        "history = model.fit(X_train,y_train,epochs=50,verbose=1,validation_data=(X_test,y_test))"
      ],
      "execution_count": 0,
      "outputs": [
        {
          "output_type": "stream",
          "text": [
            "Train on 455 samples, validate on 114 samples\n",
            "Epoch 1/50\n",
            "WARNING:tensorflow:From /usr/local/lib/python3.6/dist-packages/tensorflow_core/python/ops/nn_impl.py:183: where (from tensorflow.python.ops.array_ops) is deprecated and will be removed in a future version.\n",
            "Instructions for updating:\n",
            "Use tf.where in 2.0, which has the same broadcast rule as np.where\n",
            "455/455 [==============================] - 2s 4ms/sample - loss: 0.6662 - accuracy: 0.7560 - val_loss: 0.4654 - val_accuracy: 0.9123\n",
            "Epoch 2/50\n",
            "455/455 [==============================] - 0s 408us/sample - loss: 0.2174 - accuracy: 0.9143 - val_loss: 0.4065 - val_accuracy: 0.8070\n",
            "Epoch 3/50\n",
            "455/455 [==============================] - 0s 414us/sample - loss: 0.1389 - accuracy: 0.9429 - val_loss: 0.4054 - val_accuracy: 0.7544\n",
            "Epoch 4/50\n",
            "455/455 [==============================] - 0s 392us/sample - loss: 0.1322 - accuracy: 0.9604 - val_loss: 0.4027 - val_accuracy: 0.7368\n",
            "Epoch 5/50\n",
            "455/455 [==============================] - 0s 379us/sample - loss: 0.1043 - accuracy: 0.9670 - val_loss: 0.3994 - val_accuracy: 0.7368\n",
            "Epoch 6/50\n",
            "455/455 [==============================] - 0s 397us/sample - loss: 0.1286 - accuracy: 0.9495 - val_loss: 0.4125 - val_accuracy: 0.7368\n",
            "Epoch 7/50\n",
            "455/455 [==============================] - 0s 389us/sample - loss: 0.0993 - accuracy: 0.9604 - val_loss: 0.4153 - val_accuracy: 0.7544\n",
            "Epoch 8/50\n",
            "455/455 [==============================] - 0s 428us/sample - loss: 0.0824 - accuracy: 0.9626 - val_loss: 0.4322 - val_accuracy: 0.7544\n",
            "Epoch 9/50\n",
            "455/455 [==============================] - 0s 398us/sample - loss: 0.1329 - accuracy: 0.9516 - val_loss: 0.3970 - val_accuracy: 0.7807\n",
            "Epoch 10/50\n",
            "455/455 [==============================] - 0s 386us/sample - loss: 0.1118 - accuracy: 0.9560 - val_loss: 0.4082 - val_accuracy: 0.7807\n",
            "Epoch 11/50\n",
            "455/455 [==============================] - 0s 391us/sample - loss: 0.0985 - accuracy: 0.9692 - val_loss: 0.3948 - val_accuracy: 0.7807\n",
            "Epoch 12/50\n",
            "455/455 [==============================] - 0s 383us/sample - loss: 0.0935 - accuracy: 0.9560 - val_loss: 0.3378 - val_accuracy: 0.7895\n",
            "Epoch 13/50\n",
            "455/455 [==============================] - 0s 406us/sample - loss: 0.0914 - accuracy: 0.9648 - val_loss: 0.3056 - val_accuracy: 0.8246\n",
            "Epoch 14/50\n",
            "455/455 [==============================] - 0s 409us/sample - loss: 0.0935 - accuracy: 0.9714 - val_loss: 0.2824 - val_accuracy: 0.8421\n",
            "Epoch 15/50\n",
            "455/455 [==============================] - 0s 400us/sample - loss: 0.0620 - accuracy: 0.9802 - val_loss: 0.2584 - val_accuracy: 0.8684\n",
            "Epoch 16/50\n",
            "455/455 [==============================] - 0s 385us/sample - loss: 0.1028 - accuracy: 0.9648 - val_loss: 0.1978 - val_accuracy: 0.8860\n",
            "Epoch 17/50\n",
            "455/455 [==============================] - 0s 387us/sample - loss: 0.0759 - accuracy: 0.9736 - val_loss: 0.1685 - val_accuracy: 0.9211\n",
            "Epoch 18/50\n",
            "455/455 [==============================] - 0s 399us/sample - loss: 0.0774 - accuracy: 0.9802 - val_loss: 0.1459 - val_accuracy: 0.9211\n",
            "Epoch 19/50\n",
            "455/455 [==============================] - 0s 406us/sample - loss: 0.0880 - accuracy: 0.9604 - val_loss: 0.1400 - val_accuracy: 0.9386\n",
            "Epoch 20/50\n",
            "455/455 [==============================] - 0s 402us/sample - loss: 0.0601 - accuracy: 0.9802 - val_loss: 0.1264 - val_accuracy: 0.9386\n",
            "Epoch 21/50\n",
            "455/455 [==============================] - 0s 402us/sample - loss: 0.0689 - accuracy: 0.9714 - val_loss: 0.1198 - val_accuracy: 0.9474\n",
            "Epoch 22/50\n",
            "455/455 [==============================] - 0s 390us/sample - loss: 0.0519 - accuracy: 0.9802 - val_loss: 0.1108 - val_accuracy: 0.9474\n",
            "Epoch 23/50\n",
            "455/455 [==============================] - 0s 397us/sample - loss: 0.0379 - accuracy: 0.9868 - val_loss: 0.1084 - val_accuracy: 0.9474\n",
            "Epoch 24/50\n",
            "455/455 [==============================] - 0s 401us/sample - loss: 0.0522 - accuracy: 0.9868 - val_loss: 0.0926 - val_accuracy: 0.9561\n",
            "Epoch 25/50\n",
            "455/455 [==============================] - 0s 391us/sample - loss: 0.0590 - accuracy: 0.9780 - val_loss: 0.1008 - val_accuracy: 0.9561\n",
            "Epoch 26/50\n",
            "455/455 [==============================] - 0s 381us/sample - loss: 0.0778 - accuracy: 0.9692 - val_loss: 0.1203 - val_accuracy: 0.9561\n",
            "Epoch 27/50\n",
            "455/455 [==============================] - 0s 419us/sample - loss: 0.0390 - accuracy: 0.9824 - val_loss: 0.0998 - val_accuracy: 0.9649\n",
            "Epoch 28/50\n",
            "455/455 [==============================] - 0s 398us/sample - loss: 0.0603 - accuracy: 0.9736 - val_loss: 0.0828 - val_accuracy: 0.9649\n",
            "Epoch 29/50\n",
            "455/455 [==============================] - 0s 386us/sample - loss: 0.0516 - accuracy: 0.9736 - val_loss: 0.0742 - val_accuracy: 0.9649\n",
            "Epoch 30/50\n",
            "455/455 [==============================] - 0s 386us/sample - loss: 0.0699 - accuracy: 0.9780 - val_loss: 0.0629 - val_accuracy: 0.9737\n",
            "Epoch 31/50\n",
            "455/455 [==============================] - 0s 387us/sample - loss: 0.0621 - accuracy: 0.9824 - val_loss: 0.0667 - val_accuracy: 0.9737\n",
            "Epoch 32/50\n",
            "455/455 [==============================] - 0s 400us/sample - loss: 0.0376 - accuracy: 0.9890 - val_loss: 0.0640 - val_accuracy: 0.9737\n",
            "Epoch 33/50\n",
            "455/455 [==============================] - 0s 410us/sample - loss: 0.0699 - accuracy: 0.9802 - val_loss: 0.0586 - val_accuracy: 0.9737\n",
            "Epoch 34/50\n",
            "455/455 [==============================] - 0s 402us/sample - loss: 0.0544 - accuracy: 0.9868 - val_loss: 0.0563 - val_accuracy: 0.9649\n",
            "Epoch 35/50\n",
            "455/455 [==============================] - 0s 382us/sample - loss: 0.0442 - accuracy: 0.9868 - val_loss: 0.0565 - val_accuracy: 0.9649\n",
            "Epoch 36/50\n",
            "455/455 [==============================] - 0s 378us/sample - loss: 0.0507 - accuracy: 0.9780 - val_loss: 0.0430 - val_accuracy: 0.9825\n",
            "Epoch 37/50\n",
            "455/455 [==============================] - 0s 391us/sample - loss: 0.0439 - accuracy: 0.9890 - val_loss: 0.0470 - val_accuracy: 0.9737\n",
            "Epoch 38/50\n",
            "455/455 [==============================] - 0s 406us/sample - loss: 0.0434 - accuracy: 0.9846 - val_loss: 0.0491 - val_accuracy: 0.9737\n",
            "Epoch 39/50\n",
            "455/455 [==============================] - 0s 400us/sample - loss: 0.0366 - accuracy: 0.9868 - val_loss: 0.0447 - val_accuracy: 0.9737\n",
            "Epoch 40/50\n",
            "455/455 [==============================] - 0s 392us/sample - loss: 0.0642 - accuracy: 0.9802 - val_loss: 0.0441 - val_accuracy: 0.9737\n",
            "Epoch 41/50\n",
            "455/455 [==============================] - 0s 398us/sample - loss: 0.0511 - accuracy: 0.9846 - val_loss: 0.0380 - val_accuracy: 0.9825\n",
            "Epoch 42/50\n",
            "455/455 [==============================] - 0s 387us/sample - loss: 0.0231 - accuracy: 0.9890 - val_loss: 0.0361 - val_accuracy: 0.9825\n",
            "Epoch 43/50\n",
            "455/455 [==============================] - 0s 375us/sample - loss: 0.0511 - accuracy: 0.9890 - val_loss: 0.0354 - val_accuracy: 0.9825\n",
            "Epoch 44/50\n",
            "455/455 [==============================] - 0s 399us/sample - loss: 0.0422 - accuracy: 0.9824 - val_loss: 0.0301 - val_accuracy: 0.9825\n",
            "Epoch 45/50\n",
            "455/455 [==============================] - 0s 390us/sample - loss: 0.0543 - accuracy: 0.9846 - val_loss: 0.0327 - val_accuracy: 0.9825\n",
            "Epoch 46/50\n",
            "455/455 [==============================] - 0s 401us/sample - loss: 0.0369 - accuracy: 0.9868 - val_loss: 0.0308 - val_accuracy: 0.9825\n",
            "Epoch 47/50\n",
            "455/455 [==============================] - 0s 390us/sample - loss: 0.0379 - accuracy: 0.9868 - val_loss: 0.0348 - val_accuracy: 0.9912\n",
            "Epoch 48/50\n",
            "455/455 [==============================] - 0s 399us/sample - loss: 0.0343 - accuracy: 0.9868 - val_loss: 0.0433 - val_accuracy: 0.9825\n",
            "Epoch 49/50\n",
            "455/455 [==============================] - 0s 383us/sample - loss: 0.0280 - accuracy: 0.9934 - val_loss: 0.0432 - val_accuracy: 0.9737\n",
            "Epoch 50/50\n",
            "455/455 [==============================] - 0s 388us/sample - loss: 0.0563 - accuracy: 0.9780 - val_loss: 0.0407 - val_accuracy: 0.9737\n"
          ],
          "name": "stdout"
        }
      ]
    },
    {
      "cell_type": "code",
      "metadata": {
        "id": "GP-xWimWgcR4",
        "colab_type": "code",
        "colab": {}
      },
      "source": [
        "def plotLearningCurve(history,epochs):\n",
        "  epochRange = range(1,epochs+1)\n",
        "  plt.plot(epochRange,history.history['accuracy'])\n",
        "  plt.plot(epochRange,history.history['val_accuracy'])\n",
        "  plt.title('Model Accuracy')\n",
        "  plt.xlabel('Epoch')\n",
        "  plt.ylabel('Accuracy')\n",
        "  plt.legend(['Train','Validation'],loc='upper left')\n",
        "  plt.show()\n",
        "\n",
        "  plt.plot(epochRange,history.history['loss'])\n",
        "  plt.plot(epochRange,history.history['val_loss'])\n",
        "  plt.title('Model Loss')\n",
        "  plt.xlabel('Epoch')\n",
        "  plt.ylabel('Loss')\n",
        "  plt.legend(['Train','Validation'],loc='upper left')\n",
        "  plt.show()"
      ],
      "execution_count": 0,
      "outputs": []
    },
    {
      "cell_type": "code",
      "metadata": {
        "id": "Io7Fkt8QhHXB",
        "colab_type": "code",
        "outputId": "0e6faa92-7b7b-409d-b14e-82fabee95dca",
        "colab": {
          "base_uri": "https://localhost:8080/",
          "height": 573
        }
      },
      "source": [
        "plotLearningCurve(history,50)"
      ],
      "execution_count": 0,
      "outputs": [
        {
          "output_type": "display_data",
          "data": {
            "image/png": "[encoded data removed]",
            "text/plain": [
              "<Figure size 432x288 with 1 Axes>"
            ]
          },
          "metadata": {
            "tags": []
          }
        },
        {
          "output_type": "display_data",
          "data": {
            "image/png": "[encoded data removed]",
            "text/plain": [
              "<Figure size 432x288 with 1 Axes>"
            ]
          },
          "metadata": {
            "tags": []
          }
        }
      ]
    },
    {
      "cell_type": "code",
      "metadata": {
        "id": "AYh4iEiOhKoR",
        "colab_type": "code",
        "colab": {}
      },
      "source": [
        ""
      ],
      "execution_count": 0,
      "outputs": []
    }
  ]
}